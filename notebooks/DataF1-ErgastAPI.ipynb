{
 "cells": [
  {
   "attachments": {},
   "cell_type": "markdown",
   "metadata": {},
   "source": [
    "<h3 style=\"text-align:center\"> Gather <b>Formula 1</b> data from <a href=\"http://ergast.com/mrd/\">Ergast Developer API</a></h3>\n",
    "<hr>"
   ]
  },
  {
   "attachments": {},
   "cell_type": "markdown",
   "metadata": {},
   "source": [
    "#### Import Libraries"
   ]
  },
  {
   "cell_type": "code",
   "execution_count": 5,
   "metadata": {},
   "outputs": [],
   "source": [
    "# - Import Libraries - \n",
    "from bs4 import BeautifulSoup\n",
    "import json\n",
    "import os\n",
    "import random\n",
    "import re\n",
    "import requests"
   ]
  },
  {
   "attachments": {},
   "cell_type": "markdown",
   "metadata": {},
   "source": [
    "##### Functions"
   ]
  },
  {
   "cell_type": "code",
   "execution_count": 6,
   "metadata": {},
   "outputs": [],
   "source": [
    "# - Define Functions -\n",
    "\n",
    "# -- Display a sample of a dictionnary --\n",
    "def displayDictSample(dictionary: dict, numSample: int = 5):\n",
    "    \"\"\"Display a sample of a dictionnary.\n",
    "    Args:\n",
    "        dictionary (dict): the dictionnary to display.\n",
    "        numSample (int, optional): the number of elements to display. Defaults to 5.\n",
    "    \"\"\"    \n",
    "    key = random.sample(list(dictionary.keys()), k=numSample)\n",
    "    str_ = f'Sample of the Dictionnary ({numSample} observations):'\n",
    "    print(f\"{str_}\\n{'*' * len(str_)} \\n\")\n",
    "    for k in sorted(key, reverse=False):\n",
    "        print(k, dictionary[k])\n",
    "\n",
    "\n",
    "# -- Update a dictionnary --\n",
    "def updateDictionnary(inputDict: dict, outputDict: dict, inputKeys: list, outputKeys: list):\n",
    "    \"\"\"Update a dictionnary by adding a new key and value based on the existance of the inputKeys within the inputDict.\n",
    "    Args:\n",
    "        inputDict (dict): the input dictionnary.\n",
    "        outputDict (dict): the output dictionnary.\n",
    "        inputKeys (list): the list of keys to look for in the inputDict.\n",
    "        outputKeys (list): the list of keys to add in the outputDict depending on the inputKeys.\n",
    "    \"\"\"    \n",
    "    for i_, inputKey in enumerate(inputKeys):\n",
    "        if inputKey in inputDict.keys():\n",
    "            outputDict[outputKeys[i_]] = inputDict[inputKey]\n",
    "    return outputDict\n",
    "\n",
    "\n",
    "# -- Make a request to the Ergast Developer API --\n",
    "def makeErgastRequest(requestContent: str, apiLimit: int = 1000, apiOffset: int = 0, apiExport: str = 'json'):\n",
    "    \"\"\"Make a request to the Ergast Developer API and return the response.\n",
    "    Args:\n",
    "        requestContent (str): the content of the request as a string. It is the content after the Ergast URL.\n",
    "        apiLimit (int, optional): the number of information to request. Defaults to 1000.\n",
    "        apiOffset (int, optional): the number of offset to setup. Defaults to 0.\n",
    "        apiExport (str, optional): the type of exportation (JSON, XML). Defaults to 'json'.\n",
    "    \"\"\"    \n",
    "    setupParameters = {'LIMIT' : apiLimit, 'OFFSET' : apiOffset, 'EXPORT' : apiExport}\n",
    "    requestURL = f\"http://ergast.com/api/f1/{requestContent}.{setupParameters['EXPORT']}?limit={setupParameters['LIMIT']}&offset={setupParameters['OFFSET']}\"\n",
    "    ErgastRequest = requests.get(requestURL, headers={}, data={})\n",
    "    try:\n",
    "        if ErgastRequest.status_code == 200:\n",
    "            return ErgastRequest\n",
    "        print(f'Request failed with status code {ErgastRequest.status_code}')\n",
    "    except Exception as e:\n",
    "        print(f'Error Caught while requesting the Ergast API: {e}')\n",
    "\n",
    "\n",
    "def exportJSON(dictContent: dict, filePath: str):\n",
    "    \"\"\"Export a dictionnary as a JSON file.\n",
    "    Args:\n",
    "        dictContent (dict): the dictionary to export.\n",
    "        filePath (str): the path where to export the file.\n",
    "    \"\"\"    \n",
    "    if not os.path.exists(os.path.dirname(filePath)):\n",
    "        os.makedirs(os.path.dirname(filePath), exist_ok=True)\n",
    "    with open(filePath, 'w') as fp:\n",
    "        json.dump(dictContent, fp, indent=4)"
   ]
  },
  {
   "attachments": {},
   "cell_type": "markdown",
   "metadata": {},
   "source": [
    "---"
   ]
  },
  {
   "attachments": {},
   "cell_type": "markdown",
   "metadata": {},
   "source": [
    "#### CORE - API Ergast"
   ]
  },
  {
   "cell_type": "code",
   "execution_count": 8,
   "metadata": {},
   "outputs": [
    {
     "name": "stdout",
     "output_type": "stream",
     "text": [
      "Sample of the Dictionnary (5 observations):\n",
      "******************************************* \n",
      "\n",
      "1963 {}\n",
      "1973 {}\n",
      "1986 {}\n",
      "2000 {}\n",
      "2013 {}\n"
     ]
    }
   ],
   "source": [
    "# 1° - Get the SEASONS\n",
    "seasonsReqs = makeErgastRequest('seasons').json()\n",
    "dictF1 = {seasonContent['season'] : dict() for seasonContent in seasonsReqs['MRData']['SeasonTable']['Seasons']}\n",
    "# dictF1['CURRENT_SEASON'] = max(list(dictF1.keys()))\n",
    "displayDictSample(dictF1, 5)"
   ]
  },
  {
   "cell_type": "code",
   "execution_count": 9,
   "metadata": {},
   "outputs": [
    {
     "name": "stdout",
     "output_type": "stream",
     "text": [
      "Sample of the Dictionnary (5 observations):\n",
      "******************************************* \n",
      "\n",
      "hockenheimring {'CIRCUIT_NAME': 'Hockenheimring', 'COUNTRY': 'Germany', 'CITY': 'Hockenheim', 'COORDINATES': ('49.3278', '8.56583')}\n",
      "montjuic {'CIRCUIT_NAME': 'Montjuïc', 'COUNTRY': 'Spain', 'CITY': 'Barcelona', 'COORDINATES': ('41.3664', '2.15167')}\n",
      "mugello {'CIRCUIT_NAME': 'Autodromo Internazionale del Mugello', 'COUNTRY': 'Italy', 'CITY': 'Mugello', 'COORDINATES': ('43.9975', '11.3719')}\n",
      "nurburgring {'CIRCUIT_NAME': 'Nürburgring', 'COUNTRY': 'Germany', 'CITY': 'Nürburg', 'COORDINATES': ('50.3356', '6.9475')}\n",
      "yas_marina {'CIRCUIT_NAME': 'Yas Marina Circuit', 'COUNTRY': 'UAE', 'CITY': 'Abu Dhabi', 'COORDINATES': ('24.4672', '54.6031')}\n"
     ]
    }
   ],
   "source": [
    "# 1.bis° - Get the CIRCUITS\n",
    "circuitsReqs = makeErgastRequest('circuits').json()\n",
    "circuitsF1 = dict()\n",
    "for circuitContent in circuitsReqs['MRData']['CircuitTable']['Circuits']:\n",
    "    circuitsF1[circuitContent['circuitId']] = dict({\n",
    "        'CIRCUIT_NAME': circuitContent['circuitName'],\n",
    "        'COUNTRY': circuitContent['Location']['country'],\n",
    "        'CITY': circuitContent['Location']['locality'],\n",
    "        'COORDINATES' : (circuitContent['Location']['lat'], circuitContent['Location']['long'])\n",
    "    })\n",
    "displayDictSample(circuitsF1, 5)"
   ]
  },
  {
   "cell_type": "code",
   "execution_count": 10,
   "metadata": {},
   "outputs": [
    {
     "name": "stdout",
     "output_type": "stream",
     "text": [
      "Sample of the Dictionnary (5 observations):\n",
      "******************************************* \n",
      "\n",
      "baghetti {'FIRST_NAME': 'Giancarlo', 'LAST_NAME': 'Baghetti', 'DATE_OF_BIRTH': '1934-12-25', 'NATIONALITY': 'Italian'}\n",
      "ernesto_brambilla {'FIRST_NAME': 'Ernesto', 'LAST_NAME': 'Brambilla', 'DATE_OF_BIRTH': '1934-01-31', 'NATIONALITY': 'Italian'}\n",
      "gregory {'FIRST_NAME': 'Masten', 'LAST_NAME': 'Gregory', 'DATE_OF_BIRTH': '1932-02-29', 'NATIONALITY': 'American'}\n",
      "hill {'FIRST_NAME': 'Graham', 'LAST_NAME': 'Hill', 'DATE_OF_BIRTH': '1929-02-15', 'NATIONALITY': 'British'}\n",
      "phil_hill {'FIRST_NAME': 'Phil', 'LAST_NAME': 'Hill', 'DATE_OF_BIRTH': '1927-04-20', 'NATIONALITY': 'American'}\n"
     ]
    }
   ],
   "source": [
    "# 2.1° - Get the DRIVERS per SEASON\n",
    "for seasonKey in dictF1.keys():\n",
    "    driverReqs = makeErgastRequest(f'{seasonKey}/drivers').json()\n",
    "    dictF1[seasonKey]['DRIVERS'] = dict()\n",
    "    for driverContent in driverReqs['MRData']['DriverTable']['Drivers']:\n",
    "        dictDriver = dict()\n",
    "        dictDriver = updateDictionnary(driverContent, dictDriver, ['permanentNumber', 'code', 'givenName', 'familyName', 'dateOfBirth', 'nationality'], ['PERMANENT_NUMBER', 'CODE', 'FIRST_NAME', 'LAST_NAME', 'DATE_OF_BIRTH', 'NATIONALITY'])\n",
    "        dictF1[seasonKey]['DRIVERS'][driverContent['driverId']] = dictDriver\n",
    "displayDictSample(dictF1[random.choice(list(dictF1.keys()))]['DRIVERS'], 5)"
   ]
  },
  {
   "cell_type": "code",
   "execution_count": 11,
   "metadata": {},
   "outputs": [
    {
     "name": "stdout",
     "output_type": "stream",
     "text": [
      "Sample of the Dictionnary (5 observations):\n",
      "******************************************* \n",
      "\n",
      "ensign {'NAME': 'Ensign', 'NATIONALITY': 'British'}\n",
      "maki {'NAME': 'Maki', 'NATIONALITY': 'Japanese'}\n",
      "march {'NAME': 'March', 'NATIONALITY': 'British'}\n",
      "surtees {'NAME': 'Surtees', 'NATIONALITY': 'British'}\n",
      "tyrrell {'NAME': 'Tyrrell', 'NATIONALITY': 'British'}\n"
     ]
    }
   ],
   "source": [
    "# 2.2° - Get the CONSTRUCTORS per SEASON\n",
    "for seasonKey in dictF1.keys():\n",
    "    constructorReqs = makeErgastRequest(f'{seasonKey}/constructors').json()\n",
    "    dictF1[seasonKey]['CONSTRUCTORS'] = dict()\n",
    "    for constructorContent in constructorReqs['MRData']['ConstructorTable']['Constructors']:\n",
    "        dictConstructor = dict()\n",
    "        dictConstructor = updateDictionnary(constructorContent, dictConstructor, ['name', 'nationality'], ['NAME', 'NATIONALITY'])\n",
    "        dictF1[seasonKey]['CONSTRUCTORS'][constructorContent['constructorId']] = dictConstructor\n",
    "displayDictSample(dictF1[random.choice(list(dictF1.keys()))]['CONSTRUCTORS'], 5)"
   ]
  },
  {
   "cell_type": "code",
   "execution_count": 12,
   "metadata": {},
   "outputs": [
    {
     "name": "stdout",
     "output_type": "stream",
     "text": [
      "Sample of the Dictionnary (5 observations):\n",
      "******************************************* \n",
      "\n",
      "16 {'CIRCUIT_ID': 'shanghai', 'RACE': {'NAME': 'Chinese Grand Prix', 'DATE': '2004-09-26'}}\n",
      "18 {'CIRCUIT_ID': 'interlagos', 'RACE': {'NAME': 'Brazilian Grand Prix', 'DATE': '2004-10-24'}}\n",
      "4 {'CIRCUIT_ID': 'imola', 'RACE': {'NAME': 'San Marino Grand Prix', 'DATE': '2004-04-25'}}\n",
      "6 {'CIRCUIT_ID': 'monaco', 'RACE': {'NAME': 'Monaco Grand Prix', 'DATE': '2004-05-23'}}\n",
      "8 {'CIRCUIT_ID': 'villeneuve', 'RACE': {'NAME': 'Canadian Grand Prix', 'DATE': '2004-06-13'}}\n"
     ]
    }
   ],
   "source": [
    "# 2.3° - Get the RACES per SEASON\n",
    "for seasonKey in dictF1.keys():\n",
    "    raceReqs = makeErgastRequest(f'{seasonKey}').json()\n",
    "    dictF1[seasonKey]['RACES'] = dict()\n",
    "    for raceContent in raceReqs['MRData']['RaceTable']['Races']:\n",
    "        dictRace = dict()\n",
    "        dictRace = updateDictionnary(raceContent['Circuit'], dictRace, ['circuitId'], ['CIRCUIT_ID'])\n",
    "        dictRace['RACE'] = dict()\n",
    "        dictRace['RACE'] = updateDictionnary(raceContent, dictRace['RACE'], ['raceName', 'date', 'time'], ['NAME', 'DATE', 'TIME'])\n",
    "        dictRace = updateDictionnary(raceContent, dictRace, ['FirstPractice', 'SecondPractice', 'ThirdPractice', 'Sprint'], ['PRACTICE_1', 'PRACTICE_2', 'PRACTICE_3', 'SPRINT'])\n",
    "        dictF1[seasonKey]['RACES'][raceContent['round']] = dictRace\n",
    "displayDictSample(dictF1[random.choice(list(dictF1.keys()))]['RACES'], 5)"
   ]
  },
  {
   "cell_type": "code",
   "execution_count": 13,
   "metadata": {},
   "outputs": [
    {
     "name": "stdout",
     "output_type": "stream",
     "text": [
      "Sample of the Dictionnary (5 observations):\n",
      "******************************************* \n",
      "\n",
      "13 {'1': {'DRIVER_ID': 'hamilton', 'CONSTRUCTOR_ID': 'mercedes', 'GRID_POSITION': '1', 'STATUS': 'Finished', 'TIME': {'millis': '4532312', 'time': '1:15:32.312'}, 'FASTEST_LAP': {'rank': '2', 'lap': '50', 'Time': {'time': '1:23.488'}, 'AverageSpeed': {'units': 'kph', 'speed': '249.793'}}}, '2': {'DRIVER_ID': 'bottas', 'CONSTRUCTOR_ID': 'mercedes', 'GRID_POSITION': '4', 'STATUS': 'Finished', 'TIME': {'millis': '4536783', 'time': '+4.471'}, 'FASTEST_LAP': {'rank': '3', 'lap': '53', 'Time': {'time': '1:23.488'}, 'AverageSpeed': {'units': 'kph', 'speed': '249.095'}}}, '3': {'DRIVER_ID': 'vettel', 'CONSTRUCTOR_ID': 'ferrari', 'GRID_POSITION': '6', 'STATUS': 'Finished', 'TIME': {'millis': '4568629', 'time': '+36.317'}, 'FASTEST_LAP': {'rank': '4', 'lap': '51', 'Time': {'time': '1:23.897'}, 'AverageSpeed': {'units': 'kph', 'speed': '248.576'}}}, '4': {'DRIVER_ID': 'ricciardo', 'CONSTRUCTOR_ID': 'red_bull', 'GRID_POSITION': '16', 'STATUS': 'Finished', 'TIME': {'millis': '4572647', 'time': '+40.335'}, 'FASTEST_LAP': {'rank': '1', 'lap': '49', 'Time': {'time': '1:23.361'}, 'AverageSpeed': {'units': 'kph', 'speed': '250.174'}}}, '5': {'DRIVER_ID': 'raikkonen', 'CONSTRUCTOR_ID': 'ferrari', 'GRID_POSITION': '5', 'STATUS': 'Finished', 'TIME': {'millis': '4592394', 'time': '+1:00.082'}, 'FASTEST_LAP': {'rank': '8', 'lap': '43', 'Time': {'time': '1:25.054'}, 'AverageSpeed': {'units': 'kph', 'speed': '245.194'}}}, '6': {'DRIVER_ID': 'ocon', 'CONSTRUCTOR_ID': 'force_india', 'GRID_POSITION': '3', 'STATUS': 'Finished', 'TIME': {'millis': '4603840', 'time': '+1:11.528'}, 'FASTEST_LAP': {'rank': '11', 'lap': '53', 'Time': {'time': '1:25.054'}, 'AverageSpeed': {'units': 'kph', 'speed': '243.482'}}}, '7': {'DRIVER_ID': 'stroll', 'CONSTRUCTOR_ID': 'williams', 'GRID_POSITION': '2', 'STATUS': 'Finished', 'TIME': {'millis': '4606468', 'time': '+1:14.156'}, 'FASTEST_LAP': {'rank': '10', 'lap': '51', 'Time': {'time': '1:25.625'}, 'AverageSpeed': {'units': 'kph', 'speed': '243.559'}}}, '8': {'DRIVER_ID': 'massa', 'CONSTRUCTOR_ID': 'williams', 'GRID_POSITION': '7', 'STATUS': 'Finished', 'TIME': {'millis': '4607146', 'time': '+1:14.834'}, 'FASTEST_LAP': {'rank': '9', 'lap': '30', 'Time': {'time': '1:25.477'}, 'AverageSpeed': {'units': 'kph', 'speed': '243.981'}}}, '9': {'DRIVER_ID': 'perez', 'CONSTRUCTOR_ID': 'force_india', 'GRID_POSITION': '10', 'STATUS': 'Finished', 'TIME': {'millis': '4607588', 'time': '+1:15.276'}, 'FASTEST_LAP': {'rank': '6', 'lap': '48', 'Time': {'time': '1:24.968'}, 'AverageSpeed': {'units': 'kph', 'speed': '245.442'}}}, '10': {'DRIVER_ID': 'max_verstappen', 'CONSTRUCTOR_ID': 'red_bull', 'GRID_POSITION': '13', 'STATUS': '+1 Lap', 'FASTEST_LAP': {'rank': '5', 'lap': '48', 'Time': {'time': '1:24.351'}, 'AverageSpeed': {'units': 'kph', 'speed': '247.238'}}}, '11': {'DRIVER_ID': 'kevin_magnussen', 'CONSTRUCTOR_ID': 'haas', 'GRID_POSITION': '9', 'STATUS': '+1 Lap', 'FASTEST_LAP': {'rank': '15', 'lap': '48', 'Time': {'time': '1:26.037'}, 'AverageSpeed': {'units': 'kph', 'speed': '242.393'}}}, '12': {'DRIVER_ID': 'kvyat', 'CONSTRUCTOR_ID': 'toro_rosso', 'GRID_POSITION': '8', 'STATUS': '+1 Lap', 'FASTEST_LAP': {'rank': '14', 'lap': '43', 'Time': {'time': '1:25.894'}, 'AverageSpeed': {'units': 'kph', 'speed': '242.796'}}}, '13': {'DRIVER_ID': 'hulkenberg', 'CONSTRUCTOR_ID': 'renault', 'GRID_POSITION': '14', 'STATUS': '+1 Lap', 'FASTEST_LAP': {'rank': '16', 'lap': '46', 'Time': {'time': '1:26.131'}, 'AverageSpeed': {'units': 'kph', 'speed': '242.128'}}}, '14': {'DRIVER_ID': 'sainz', 'CONSTRUCTOR_ID': 'toro_rosso', 'GRID_POSITION': '15', 'STATUS': '+1 Lap', 'FASTEST_LAP': {'rank': '17', 'lap': '46', 'Time': {'time': '1:26.210'}, 'AverageSpeed': {'units': 'kph', 'speed': '241.906'}}}, '15': {'DRIVER_ID': 'grosjean', 'CONSTRUCTOR_ID': 'haas', 'GRID_POSITION': '20', 'STATUS': '+1 Lap', 'FASTEST_LAP': {'rank': '7', 'lap': '48', 'Time': {'time': '1:25.020'}, 'AverageSpeed': {'units': 'kph', 'speed': '245.292'}}}, '16': {'DRIVER_ID': 'wehrlein', 'CONSTRUCTOR_ID': 'sauber', 'GRID_POSITION': '12', 'STATUS': '+2 Laps', 'FASTEST_LAP': {'rank': '18', 'lap': '47', 'Time': {'time': '1:26.547'}, 'AverageSpeed': {'units': 'kph', 'speed': '240.965'}}}, '17': {'DRIVER_ID': 'alonso', 'CONSTRUCTOR_ID': 'mclaren', 'GRID_POSITION': '19', 'STATUS': 'Gearbox', 'FASTEST_LAP': {'rank': '13', 'lap': '44', 'Time': {'time': '1:25.871'}, 'AverageSpeed': {'units': 'kph', 'speed': '242.861'}}}, '18': {'DRIVER_ID': 'ericsson', 'CONSTRUCTOR_ID': 'sauber', 'GRID_POSITION': '11', 'STATUS': 'Gearbox', 'FASTEST_LAP': {'rank': '20', 'lap': '20', 'Time': {'time': '1:27.663'}, 'AverageSpeed': {'units': 'kph', 'speed': '237.897'}}}, '19': {'DRIVER_ID': 'vandoorne', 'CONSTRUCTOR_ID': 'mclaren', 'GRID_POSITION': '18', 'STATUS': 'Engine', 'FASTEST_LAP': {'rank': '19', 'lap': '30', 'Time': {'time': '1:26.912'}, 'AverageSpeed': {'units': 'kph', 'speed': '239.953'}}}, '20': {'DRIVER_ID': 'jolyon_palmer', 'CONSTRUCTOR_ID': 'renault', 'GRID_POSITION': '17', 'STATUS': 'Engine', 'FASTEST_LAP': {'rank': '12', 'lap': '27', 'Time': {'time': '1:25.752'}, 'AverageSpeed': {'units': 'kph', 'speed': '243.198'}}}}\n",
      "14 {'1': {'DRIVER_ID': 'hamilton', 'CONSTRUCTOR_ID': 'mercedes', 'GRID_POSITION': '5', 'STATUS': 'Finished', 'TIME': {'millis': '7403544', 'time': '2:03:23.544'}, 'FASTEST_LAP': {'rank': '1', 'lap': '55', 'Time': {'time': '1:45.008'}, 'AverageSpeed': {'units': 'kph', 'speed': '173.643'}}}, '2': {'DRIVER_ID': 'ricciardo', 'CONSTRUCTOR_ID': 'red_bull', 'GRID_POSITION': '3', 'STATUS': 'Finished', 'TIME': {'millis': '7408051', 'time': '+4.507'}, 'FASTEST_LAP': {'rank': '2', 'lap': '57', 'Time': {'time': '1:45.301'}, 'AverageSpeed': {'units': 'kph', 'speed': '173.160'}}}, '3': {'DRIVER_ID': 'bottas', 'CONSTRUCTOR_ID': 'mercedes', 'GRID_POSITION': '6', 'STATUS': 'Finished', 'TIME': {'millis': '7412344', 'time': '+8.800'}, 'FASTEST_LAP': {'rank': '3', 'lap': '54', 'Time': {'time': '1:45.405'}, 'AverageSpeed': {'units': 'kph', 'speed': '172.989'}}}, '4': {'DRIVER_ID': 'sainz', 'CONSTRUCTOR_ID': 'toro_rosso', 'GRID_POSITION': '10', 'STATUS': 'Finished', 'TIME': {'millis': '7426366', 'time': '+22.822'}, 'FASTEST_LAP': {'rank': '4', 'lap': '52', 'Time': {'time': '1:46.537'}, 'AverageSpeed': {'units': 'kph', 'speed': '171.151'}}}, '5': {'DRIVER_ID': 'perez', 'CONSTRUCTOR_ID': 'force_india', 'GRID_POSITION': '12', 'STATUS': 'Finished', 'TIME': {'millis': '7428903', 'time': '+25.359'}, 'FASTEST_LAP': {'rank': '7', 'lap': '52', 'Time': {'time': '1:46.731'}, 'AverageSpeed': {'units': 'kph', 'speed': '170.840'}}}, '6': {'DRIVER_ID': 'jolyon_palmer', 'CONSTRUCTOR_ID': 'renault', 'GRID_POSITION': '11', 'STATUS': 'Finished', 'TIME': {'millis': '7430803', 'time': '+27.259'}, 'FASTEST_LAP': {'rank': '5', 'lap': '52', 'Time': {'time': '1:46.722'}, 'AverageSpeed': {'units': 'kph', 'speed': '170.855'}}}, '7': {'DRIVER_ID': 'vandoorne', 'CONSTRUCTOR_ID': 'mclaren', 'GRID_POSITION': '9', 'STATUS': 'Finished', 'TIME': {'millis': '7433932', 'time': '+30.388'}, 'FASTEST_LAP': {'rank': '6', 'lap': '57', 'Time': {'time': '1:46.722'}, 'AverageSpeed': {'units': 'kph', 'speed': '170.855'}}}, '8': {'DRIVER_ID': 'stroll', 'CONSTRUCTOR_ID': 'williams', 'GRID_POSITION': '18', 'STATUS': 'Finished', 'TIME': {'millis': '7445240', 'time': '+41.696'}, 'FASTEST_LAP': {'rank': '9', 'lap': '55', 'Time': {'time': '1:47.512'}, 'AverageSpeed': {'units': 'kph', 'speed': '169.599'}}}, '9': {'DRIVER_ID': 'grosjean', 'CONSTRUCTOR_ID': 'haas', 'GRID_POSITION': '15', 'STATUS': 'Finished', 'TIME': {'millis': '7446826', 'time': '+43.282'}, 'FASTEST_LAP': {'rank': '11', 'lap': '54', 'Time': {'time': '1:47.637'}, 'AverageSpeed': {'units': 'kph', 'speed': '169.402'}}}, '10': {'DRIVER_ID': 'ocon', 'CONSTRUCTOR_ID': 'force_india', 'GRID_POSITION': '14', 'STATUS': 'Finished', 'TIME': {'millis': '7448339', 'time': '+44.795'}, 'FASTEST_LAP': {'rank': '12', 'lap': '52', 'Time': {'time': '1:47.677'}, 'AverageSpeed': {'units': 'kph', 'speed': '169.339'}}}, '11': {'DRIVER_ID': 'massa', 'CONSTRUCTOR_ID': 'williams', 'GRID_POSITION': '17', 'STATUS': 'Finished', 'TIME': {'millis': '7450080', 'time': '+46.536'}, 'FASTEST_LAP': {'rank': '8', 'lap': '58', 'Time': {'time': '1:47.055'}, 'AverageSpeed': {'units': 'kph', 'speed': '170.323'}}}, '12': {'DRIVER_ID': 'wehrlein', 'CONSTRUCTOR_ID': 'sauber', 'GRID_POSITION': '19', 'STATUS': '+2 Laps', 'FASTEST_LAP': {'rank': '14', 'lap': '56', 'Time': {'time': '1:49.061'}, 'AverageSpeed': {'units': 'kph', 'speed': '167.190'}}}, '13': {'DRIVER_ID': 'kevin_magnussen', 'CONSTRUCTOR_ID': 'haas', 'GRID_POSITION': '16', 'STATUS': 'Engine', 'FASTEST_LAP': {'rank': '10', 'lap': '44', 'Time': {'time': '1:47.585'}, 'AverageSpeed': {'units': 'kph', 'speed': '169.484'}}}, '14': {'DRIVER_ID': 'hulkenberg', 'CONSTRUCTOR_ID': 'renault', 'GRID_POSITION': '7', 'STATUS': 'Engine', 'FASTEST_LAP': {'rank': '13', 'lap': '37', 'Time': {'time': '1:48.011'}, 'AverageSpeed': {'units': 'kph', 'speed': '168.816'}}}, '15': {'DRIVER_ID': 'ericsson', 'CONSTRUCTOR_ID': 'sauber', 'GRID_POSITION': '20', 'STATUS': 'Accident', 'FASTEST_LAP': {'rank': '15', 'lap': '35', 'Time': {'time': '1:52.496'}, 'AverageSpeed': {'units': 'kph', 'speed': '162.085'}}}, '16': {'DRIVER_ID': 'kvyat', 'CONSTRUCTOR_ID': 'toro_rosso', 'GRID_POSITION': '13', 'STATUS': 'Accident', 'FASTEST_LAP': {'rank': '16', 'lap': '10', 'Time': {'time': '2:10.512'}, 'AverageSpeed': {'units': 'kph', 'speed': '139.711'}}}, '17': {'DRIVER_ID': 'alonso', 'CONSTRUCTOR_ID': 'mclaren', 'GRID_POSITION': '8', 'STATUS': 'Collision damage', 'FASTEST_LAP': {'rank': '17', 'lap': '6', 'Time': {'time': '2:13.579'}, 'AverageSpeed': {'units': 'kph', 'speed': '136.503'}}}, '18': {'DRIVER_ID': 'vettel', 'CONSTRUCTOR_ID': 'ferrari', 'GRID_POSITION': '1', 'STATUS': 'Accident'}, '19': {'DRIVER_ID': 'max_verstappen', 'CONSTRUCTOR_ID': 'red_bull', 'GRID_POSITION': '2', 'STATUS': 'Accident'}, '20': {'DRIVER_ID': 'raikkonen', 'CONSTRUCTOR_ID': 'ferrari', 'GRID_POSITION': '4', 'STATUS': 'Accident'}}\n",
      "17 {'1': {'DRIVER_ID': 'hamilton', 'CONSTRUCTOR_ID': 'mercedes', 'GRID_POSITION': '1', 'STATUS': 'Finished', 'TIME': {'millis': '5630991', 'time': '1:33:50.991'}, 'FASTEST_LAP': {'rank': '5', 'lap': '48', 'Time': {'time': '1:38.776'}, 'AverageSpeed': {'units': 'kph', 'speed': '200.927'}}}, '2': {'DRIVER_ID': 'vettel', 'CONSTRUCTOR_ID': 'ferrari', 'GRID_POSITION': '2', 'STATUS': 'Finished', 'TIME': {'millis': '5641134', 'time': '+10.143'}, 'FASTEST_LAP': {'rank': '1', 'lap': '51', 'Time': {'time': '1:37.766'}, 'AverageSpeed': {'units': 'kph', 'speed': '203.003'}}}, '3': {'DRIVER_ID': 'raikkonen', 'CONSTRUCTOR_ID': 'ferrari', 'GRID_POSITION': '5', 'STATUS': 'Finished', 'TIME': {'millis': '5646770', 'time': '+15.779'}, 'FASTEST_LAP': {'rank': '6', 'lap': '42', 'Time': {'time': '1:38.809'}, 'AverageSpeed': {'units': 'kph', 'speed': '200.860'}}}, '4': {'DRIVER_ID': 'max_verstappen', 'CONSTRUCTOR_ID': 'red_bull', 'GRID_POSITION': '16', 'STATUS': 'Finished', 'TIME': {'millis': '5647759', 'time': '+16.768'}, 'FASTEST_LAP': {'rank': '4', 'lap': '39', 'Time': {'time': '1:38.060'}, 'AverageSpeed': {'units': 'kph', 'speed': '202.394'}}}, '5': {'DRIVER_ID': 'bottas', 'CONSTRUCTOR_ID': 'mercedes', 'GRID_POSITION': '3', 'STATUS': 'Finished', 'TIME': {'millis': '5665958', 'time': '+34.967'}, 'FASTEST_LAP': {'rank': '2', 'lap': '54', 'Time': {'time': '1:37.767'}, 'AverageSpeed': {'units': 'kph', 'speed': '203.001'}}}, '6': {'DRIVER_ID': 'ocon', 'CONSTRUCTOR_ID': 'force_india', 'GRID_POSITION': '6', 'STATUS': 'Finished', 'TIME': {'millis': '5721971', 'time': '+1:30.980'}, 'FASTEST_LAP': {'rank': '13', 'lap': '53', 'Time': {'time': '1:40.499'}, 'AverageSpeed': {'units': 'kph', 'speed': '197.482'}}}, '7': {'DRIVER_ID': 'sainz', 'CONSTRUCTOR_ID': 'renault', 'GRID_POSITION': '7', 'STATUS': 'Finished', 'TIME': {'millis': '5723935', 'time': '+1:32.944'}, 'FASTEST_LAP': {'rank': '12', 'lap': '43', 'Time': {'time': '1:40.462'}, 'AverageSpeed': {'units': 'kph', 'speed': '197.555'}}}, '8': {'DRIVER_ID': 'perez', 'CONSTRUCTOR_ID': 'force_india', 'GRID_POSITION': '9', 'STATUS': '+1 Lap', 'FASTEST_LAP': {'rank': '14', 'lap': '14', 'Time': {'time': '1:40.851'}, 'AverageSpeed': {'units': 'kph', 'speed': '196.793'}}}, '9': {'DRIVER_ID': 'massa', 'CONSTRUCTOR_ID': 'williams', 'GRID_POSITION': '10', 'STATUS': '+1 Lap', 'FASTEST_LAP': {'rank': '10', 'lap': '36', 'Time': {'time': '1:40.131'}, 'AverageSpeed': {'units': 'kph', 'speed': '198.208'}}}, '10': {'DRIVER_ID': 'kvyat', 'CONSTRUCTOR_ID': 'toro_rosso', 'GRID_POSITION': '11', 'STATUS': '+1 Lap', 'FASTEST_LAP': {'rank': '15', 'lap': '19', 'Time': {'time': '1:40.971'}, 'AverageSpeed': {'units': 'kph', 'speed': '196.559'}}}, '11': {'DRIVER_ID': 'stroll', 'CONSTRUCTOR_ID': 'williams', 'GRID_POSITION': '15', 'STATUS': '+1 Lap', 'FASTEST_LAP': {'rank': '7', 'lap': '38', 'Time': {'time': '1:39.666'}, 'AverageSpeed': {'units': 'kph', 'speed': '199.133'}}}, '12': {'DRIVER_ID': 'vandoorne', 'CONSTRUCTOR_ID': 'mclaren', 'GRID_POSITION': '20', 'STATUS': '+1 Lap', 'FASTEST_LAP': {'rank': '11', 'lap': '27', 'Time': {'time': '1:40.349'}, 'AverageSpeed': {'units': 'kph', 'speed': '197.777'}}}, '13': {'DRIVER_ID': 'brendon_hartley', 'CONSTRUCTOR_ID': 'toro_rosso', 'GRID_POSITION': '19', 'STATUS': '+1 Lap', 'FASTEST_LAP': {'rank': '8', 'lap': '47', 'Time': {'time': '1:39.979'}, 'AverageSpeed': {'units': 'kph', 'speed': '198.509'}}}, '14': {'DRIVER_ID': 'grosjean', 'CONSTRUCTOR_ID': 'haas', 'GRID_POSITION': '12', 'STATUS': '+1 Lap', 'FASTEST_LAP': {'rank': '17', 'lap': '36', 'Time': {'time': '1:41.259'}, 'AverageSpeed': {'units': 'kph', 'speed': '196.000'}}}, '15': {'DRIVER_ID': 'ericsson', 'CONSTRUCTOR_ID': 'sauber', 'GRID_POSITION': '13', 'STATUS': '+1 Lap', 'FASTEST_LAP': {'rank': '16', 'lap': '42', 'Time': {'time': '1:41.041'}, 'AverageSpeed': {'units': 'kph', 'speed': '196.423'}}}, '16': {'DRIVER_ID': 'kevin_magnussen', 'CONSTRUCTOR_ID': 'haas', 'GRID_POSITION': '17', 'STATUS': '+1 Lap', 'FASTEST_LAP': {'rank': '3', 'lap': '51', 'Time': {'time': '1:37.893'}, 'AverageSpeed': {'units': 'kph', 'speed': '202.739'}}}, '17': {'DRIVER_ID': 'alonso', 'CONSTRUCTOR_ID': 'mclaren', 'GRID_POSITION': '8', 'STATUS': 'Engine', 'FASTEST_LAP': {'rank': '18', 'lap': '21', 'Time': {'time': '1:41.537'}, 'AverageSpeed': {'units': 'kph', 'speed': '195.463'}}}, '18': {'DRIVER_ID': 'ricciardo', 'CONSTRUCTOR_ID': 'red_bull', 'GRID_POSITION': '4', 'STATUS': 'Engine', 'FASTEST_LAP': {'rank': '9', 'lap': '14', 'Time': {'time': '1:40.102'}, 'AverageSpeed': {'units': 'kph', 'speed': '198.265'}}}, '19': {'DRIVER_ID': 'wehrlein', 'CONSTRUCTOR_ID': 'sauber', 'GRID_POSITION': '14', 'STATUS': 'Collision', 'FASTEST_LAP': {'rank': '20', 'lap': '2', 'Time': {'time': '1:47.073'}, 'AverageSpeed': {'units': 'kph', 'speed': '185.357'}}}, '20': {'DRIVER_ID': 'hulkenberg', 'CONSTRUCTOR_ID': 'renault', 'GRID_POSITION': '18', 'STATUS': 'Engine', 'FASTEST_LAP': {'rank': '19', 'lap': '2', 'Time': {'time': '1:44.270'}, 'AverageSpeed': {'units': 'kph', 'speed': '190.340'}}}}\n",
      "4 {'1': {'DRIVER_ID': 'bottas', 'CONSTRUCTOR_ID': 'mercedes', 'GRID_POSITION': '3', 'STATUS': 'Finished', 'TIME': {'millis': '5288743', 'time': '1:28:08.743'}, 'FASTEST_LAP': {'rank': '3', 'lap': '49', 'Time': {'time': '1:37.367'}, 'AverageSpeed': {'units': 'kph', 'speed': '216.221'}}}, '2': {'DRIVER_ID': 'vettel', 'CONSTRUCTOR_ID': 'ferrari', 'GRID_POSITION': '1', 'STATUS': 'Finished', 'TIME': {'millis': '5289360', 'time': '+0.617'}, 'FASTEST_LAP': {'rank': '2', 'lap': '49', 'Time': {'time': '1:37.312'}, 'AverageSpeed': {'units': 'kph', 'speed': '216.343'}}}, '3': {'DRIVER_ID': 'raikkonen', 'CONSTRUCTOR_ID': 'ferrari', 'GRID_POSITION': '2', 'STATUS': 'Finished', 'TIME': {'millis': '5299743', 'time': '+11.000'}, 'FASTEST_LAP': {'rank': '1', 'lap': '49', 'Time': {'time': '1:36.844'}, 'AverageSpeed': {'units': 'kph', 'speed': '217.388'}}}, '4': {'DRIVER_ID': 'hamilton', 'CONSTRUCTOR_ID': 'mercedes', 'GRID_POSITION': '4', 'STATUS': 'Finished', 'TIME': {'millis': '5325063', 'time': '+36.320'}, 'FASTEST_LAP': {'rank': '6', 'lap': '18', 'Time': {'time': '1:38.398'}, 'AverageSpeed': {'units': 'kph', 'speed': '213.955'}}}, '5': {'DRIVER_ID': 'max_verstappen', 'CONSTRUCTOR_ID': 'red_bull', 'GRID_POSITION': '7', 'STATUS': 'Finished', 'TIME': {'millis': '5349159', 'time': '+1:00.416'}, 'FASTEST_LAP': {'rank': '8', 'lap': '47', 'Time': {'time': '1:38.429'}, 'AverageSpeed': {'units': 'kph', 'speed': '213.888'}}}, '6': {'DRIVER_ID': 'perez', 'CONSTRUCTOR_ID': 'force_india', 'GRID_POSITION': '9', 'STATUS': 'Finished', 'TIME': {'millis': '5375531', 'time': '+1:26.788'}, 'FASTEST_LAP': {'rank': '9', 'lap': '51', 'Time': {'time': '1:38.661'}, 'AverageSpeed': {'units': 'kph', 'speed': '213.385'}}}, '7': {'DRIVER_ID': 'ocon', 'CONSTRUCTOR_ID': 'force_india', 'GRID_POSITION': '10', 'STATUS': 'Finished', 'TIME': {'millis': '5383747', 'time': '+1:35.004'}, 'FASTEST_LAP': {'rank': '10', 'lap': '50', 'Time': {'time': '1:38.745'}, 'AverageSpeed': {'units': 'kph', 'speed': '213.203'}}}, '8': {'DRIVER_ID': 'hulkenberg', 'CONSTRUCTOR_ID': 'renault', 'GRID_POSITION': '8', 'STATUS': 'Finished', 'TIME': {'millis': '5384931', 'time': '+1:36.188'}, 'FASTEST_LAP': {'rank': '7', 'lap': '52', 'Time': {'time': '1:38.418'}, 'AverageSpeed': {'units': 'kph', 'speed': '213.912'}}}, '9': {'DRIVER_ID': 'massa', 'CONSTRUCTOR_ID': 'williams', 'GRID_POSITION': '6', 'STATUS': '+1 Lap', 'FASTEST_LAP': {'rank': '4', 'lap': '45', 'Time': {'time': '1:38.232'}, 'AverageSpeed': {'units': 'kph', 'speed': '214.317'}}}, '10': {'DRIVER_ID': 'sainz', 'CONSTRUCTOR_ID': 'toro_rosso', 'GRID_POSITION': '14', 'STATUS': '+1 Lap', 'FASTEST_LAP': {'rank': '11', 'lap': '51', 'Time': {'time': '1:38.858'}, 'AverageSpeed': {'units': 'kph', 'speed': '212.960'}}}, '11': {'DRIVER_ID': 'stroll', 'CONSTRUCTOR_ID': 'williams', 'GRID_POSITION': '11', 'STATUS': '+1 Lap', 'FASTEST_LAP': {'rank': '12', 'lap': '50', 'Time': {'time': '1:38.870'}, 'AverageSpeed': {'units': 'kph', 'speed': '212.934'}}}, '12': {'DRIVER_ID': 'kvyat', 'CONSTRUCTOR_ID': 'toro_rosso', 'GRID_POSITION': '12', 'STATUS': '+1 Lap', 'FASTEST_LAP': {'rank': '5', 'lap': '50', 'Time': {'time': '1:38.300'}, 'AverageSpeed': {'units': 'kph', 'speed': '214.168'}}}, '13': {'DRIVER_ID': 'kevin_magnussen', 'CONSTRUCTOR_ID': 'haas', 'GRID_POSITION': '13', 'STATUS': '+1 Lap', 'FASTEST_LAP': {'rank': '13', 'lap': '40', 'Time': {'time': '1:39.566'}, 'AverageSpeed': {'units': 'kph', 'speed': '211.445'}}}, '14': {'DRIVER_ID': 'vandoorne', 'CONSTRUCTOR_ID': 'mclaren', 'GRID_POSITION': '20', 'STATUS': '+1 Lap', 'FASTEST_LAP': {'rank': '14', 'lap': '47', 'Time': {'time': '1:39.790'}, 'AverageSpeed': {'units': 'kph', 'speed': '210.971'}}}, '15': {'DRIVER_ID': 'ericsson', 'CONSTRUCTOR_ID': 'sauber', 'GRID_POSITION': '18', 'STATUS': '+1 Lap', 'FASTEST_LAP': {'rank': '15', 'lap': '48', 'Time': {'time': '1:39.835'}, 'AverageSpeed': {'units': 'kph', 'speed': '210.875'}}}, '16': {'DRIVER_ID': 'wehrlein', 'CONSTRUCTOR_ID': 'sauber', 'GRID_POSITION': '17', 'STATUS': '+2 Laps', 'FASTEST_LAP': {'rank': '16', 'lap': '37', 'Time': {'time': '1:40.922'}, 'AverageSpeed': {'units': 'kph', 'speed': '208.604'}}}, '17': {'DRIVER_ID': 'ricciardo', 'CONSTRUCTOR_ID': 'red_bull', 'GRID_POSITION': '5', 'STATUS': 'Brakes', 'FASTEST_LAP': {'rank': '17', 'lap': '4', 'Time': {'time': '1:42.285'}, 'AverageSpeed': {'units': 'kph', 'speed': '205.824'}}}, '18': {'DRIVER_ID': 'jolyon_palmer', 'CONSTRUCTOR_ID': 'renault', 'GRID_POSITION': '16', 'STATUS': 'Collision'}, '19': {'DRIVER_ID': 'grosjean', 'CONSTRUCTOR_ID': 'haas', 'GRID_POSITION': '19', 'STATUS': 'Collision'}, '20': {'DRIVER_ID': 'alonso', 'CONSTRUCTOR_ID': 'mclaren', 'GRID_POSITION': '15', 'STATUS': 'Power Unit'}}\n",
      "8 {'1': {'DRIVER_ID': 'ricciardo', 'CONSTRUCTOR_ID': 'red_bull', 'GRID_POSITION': '10', 'STATUS': 'Finished', 'TIME': {'millis': '7435573', 'time': '2:03:55.573'}, 'FASTEST_LAP': {'rank': '4', 'lap': '46', 'Time': {'time': '1:44.882'}, 'AverageSpeed': {'units': 'kph', 'speed': '206.048'}}}, '2': {'DRIVER_ID': 'bottas', 'CONSTRUCTOR_ID': 'mercedes', 'GRID_POSITION': '2', 'STATUS': 'Finished', 'TIME': {'millis': '7439477', 'time': '+3.904'}, 'FASTEST_LAP': {'rank': '3', 'lap': '51', 'Time': {'time': '1:43.925'}, 'AverageSpeed': {'units': 'kph', 'speed': '207.946'}}}, '3': {'DRIVER_ID': 'stroll', 'CONSTRUCTOR_ID': 'williams', 'GRID_POSITION': '8', 'STATUS': 'Finished', 'TIME': {'millis': '7439582', 'time': '+4.009'}, 'FASTEST_LAP': {'rank': '5', 'lap': '44', 'Time': {'time': '1:45.108'}, 'AverageSpeed': {'units': 'kph', 'speed': '205.605'}}}, '4': {'DRIVER_ID': 'vettel', 'CONSTRUCTOR_ID': 'ferrari', 'GRID_POSITION': '4', 'STATUS': 'Finished', 'TIME': {'millis': '7441549', 'time': '+5.976'}, 'FASTEST_LAP': {'rank': '1', 'lap': '47', 'Time': {'time': '1:43.441'}, 'AverageSpeed': {'units': 'kph', 'speed': '208.919'}}}, '5': {'DRIVER_ID': 'hamilton', 'CONSTRUCTOR_ID': 'mercedes', 'GRID_POSITION': '1', 'STATUS': 'Finished', 'TIME': {'millis': '7441761', 'time': '+6.188'}, 'FASTEST_LAP': {'rank': '2', 'lap': '46', 'Time': {'time': '1:43.469'}, 'AverageSpeed': {'units': 'kph', 'speed': '208.862'}}}, '6': {'DRIVER_ID': 'ocon', 'CONSTRUCTOR_ID': 'force_india', 'GRID_POSITION': '7', 'STATUS': 'Finished', 'TIME': {'millis': '7465871', 'time': '+30.298'}, 'FASTEST_LAP': {'rank': '9', 'lap': '39', 'Time': {'time': '1:45.634'}, 'AverageSpeed': {'units': 'kph', 'speed': '204.581'}}}, '7': {'DRIVER_ID': 'kevin_magnussen', 'CONSTRUCTOR_ID': 'haas', 'GRID_POSITION': '12', 'STATUS': 'Finished', 'TIME': {'millis': '7477326', 'time': '+41.753'}, 'FASTEST_LAP': {'rank': '11', 'lap': '45', 'Time': {'time': '1:46.312'}, 'AverageSpeed': {'units': 'kph', 'speed': '203.277'}}}, '8': {'DRIVER_ID': 'sainz', 'CONSTRUCTOR_ID': 'toro_rosso', 'GRID_POSITION': '15', 'STATUS': 'Finished', 'TIME': {'millis': '7484973', 'time': '+49.400'}, 'FASTEST_LAP': {'rank': '10', 'lap': '46', 'Time': {'time': '1:45.866'}, 'AverageSpeed': {'units': 'kph', 'speed': '204.133'}}}, '9': {'DRIVER_ID': 'alonso', 'CONSTRUCTOR_ID': 'mclaren', 'GRID_POSITION': '19', 'STATUS': 'Finished', 'TIME': {'millis': '7495124', 'time': '+59.551'}, 'FASTEST_LAP': {'rank': '6', 'lap': '49', 'Time': {'time': '1:45.168'}, 'AverageSpeed': {'units': 'kph', 'speed': '205.488'}}}, '10': {'DRIVER_ID': 'wehrlein', 'CONSTRUCTOR_ID': 'sauber', 'GRID_POSITION': '14', 'STATUS': 'Finished', 'TIME': {'millis': '7524666', 'time': '+1:29.093'}, 'FASTEST_LAP': {'rank': '15', 'lap': '46', 'Time': {'time': '1:47.120'}, 'AverageSpeed': {'units': 'kph', 'speed': '201.743'}}}, '11': {'DRIVER_ID': 'ericsson', 'CONSTRUCTOR_ID': 'sauber', 'GRID_POSITION': '17', 'STATUS': 'Finished', 'TIME': {'millis': '7527367', 'time': '+1:31.794'}, 'FASTEST_LAP': {'rank': '16', 'lap': '45', 'Time': {'time': '1:47.186'}, 'AverageSpeed': {'units': 'kph', 'speed': '201.619'}}}, '12': {'DRIVER_ID': 'vandoorne', 'CONSTRUCTOR_ID': 'mclaren', 'GRID_POSITION': '18', 'STATUS': 'Finished', 'TIME': {'millis': '7527733', 'time': '+1:32.160'}, 'FASTEST_LAP': {'rank': '13', 'lap': '45', 'Time': {'time': '1:46.648'}, 'AverageSpeed': {'units': 'kph', 'speed': '202.636'}}}, '13': {'DRIVER_ID': 'grosjean', 'CONSTRUCTOR_ID': 'haas', 'GRID_POSITION': '16', 'STATUS': '+1 Lap', 'FASTEST_LAP': {'rank': '14', 'lap': '45', 'Time': {'time': '1:46.831'}, 'AverageSpeed': {'units': 'kph', 'speed': '202.289'}}}, '14': {'DRIVER_ID': 'raikkonen', 'CONSTRUCTOR_ID': 'ferrari', 'GRID_POSITION': '3', 'STATUS': 'Water pressure', 'FASTEST_LAP': {'rank': '7', 'lap': '44', 'Time': {'time': '1:45.542'}, 'AverageSpeed': {'units': 'kph', 'speed': '204.760'}}}, '15': {'DRIVER_ID': 'perez', 'CONSTRUCTOR_ID': 'force_india', 'GRID_POSITION': '6', 'STATUS': 'Seat', 'FASTEST_LAP': {'rank': '8', 'lap': '37', 'Time': {'time': '1:45.588'}, 'AverageSpeed': {'units': 'kph', 'speed': '204.670'}}}, '16': {'DRIVER_ID': 'massa', 'CONSTRUCTOR_ID': 'williams', 'GRID_POSITION': '9', 'STATUS': 'Suspension', 'FASTEST_LAP': {'rank': '17', 'lap': '10', 'Time': {'time': '1:47.340'}, 'AverageSpeed': {'units': 'kph', 'speed': '201.330'}}}, '17': {'DRIVER_ID': 'hulkenberg', 'CONSTRUCTOR_ID': 'renault', 'GRID_POSITION': '13', 'STATUS': 'Accident', 'FASTEST_LAP': {'rank': '19', 'lap': '9', 'Time': {'time': '1:48.536'}, 'AverageSpeed': {'units': 'kph', 'speed': '199.111'}}}, '18': {'DRIVER_ID': 'max_verstappen', 'CONSTRUCTOR_ID': 'red_bull', 'GRID_POSITION': '5', 'STATUS': 'Oil pressure', 'FASTEST_LAP': {'rank': '12', 'lap': '10', 'Time': {'time': '1:46.398'}, 'AverageSpeed': {'units': 'kph', 'speed': '203.112'}}}, '19': {'DRIVER_ID': 'kvyat', 'CONSTRUCTOR_ID': 'toro_rosso', 'GRID_POSITION': '11', 'STATUS': 'Battery', 'FASTEST_LAP': {'rank': '18', 'lap': '9', 'Time': {'time': '1:48.394'}, 'AverageSpeed': {'units': 'kph', 'speed': '199.372'}}}, '20': {'DRIVER_ID': 'jolyon_palmer', 'CONSTRUCTOR_ID': 'renault', 'GRID_POSITION': '20', 'STATUS': 'Power Unit', 'FASTEST_LAP': {'rank': '20', 'lap': '5', 'Time': {'time': '1:51.673'}, 'AverageSpeed': {'units': 'kph', 'speed': '193.518'}}}}\n"
     ]
    }
   ],
   "source": [
    "# 2.4° - Get the RACES RESULTS per SEASON\n",
    "for seasonKey in dictF1.keys():\n",
    "    resultReqs = makeErgastRequest(f'{seasonKey}/results').json()\n",
    "    dictF1[seasonKey]['RESULTS'] = dict()\n",
    "    for resultContent in resultReqs['MRData']['RaceTable']['Races']:\n",
    "        dictResult = dict()\n",
    "        for driverContent in resultContent['Results']:\n",
    "            dictResult[driverContent['position']] = dict()\n",
    "            dictResult[driverContent['position']] = updateDictionnary(driverContent['Driver'], dictResult[driverContent['position']], ['driverId'], ['DRIVER_ID'])\n",
    "            dictResult[driverContent['position']] = updateDictionnary(driverContent['Constructor'], dictResult[driverContent['position']], ['constructorId'], ['CONSTRUCTOR_ID'])\n",
    "            dictResult[driverContent['position']] = updateDictionnary(driverContent, dictResult[driverContent['position']], ['grid', 'status', 'lap', 'Time', 'FastestLap', 'AverageSpeed'], ['GRID_POSITION', 'STATUS', 'N_LAPS', 'TIME', 'FASTEST_LAP', 'AVERAGE_SPEED'])\n",
    "            dictF1[seasonKey]['RESULTS'][resultContent['round']] = dictResult\n",
    "displayDictSample(dictF1[random.choice(list(dictF1.keys()))]['RESULTS'], 5)"
   ]
  },
  {
   "cell_type": "code",
   "execution_count": 30,
   "metadata": {},
   "outputs": [],
   "source": [
    "# 2.5° - Get the RACES RESULTS per LAP per SEASON\n",
    "for seasonKey in dictF1.keys():\n",
    "    dictF1[seasonKey]['LAPS'] = dict()\n",
    "    n_races = len(makeErgastRequest(f'{seasonKey}').json()['MRData']['RaceTable']['Races'])\n",
    "    for raceNum in range(1, n_races+1):       \n",
    "        lapReqs = makeErgastRequest(f'{seasonKey}/{raceNum}/laps').json()\n",
    "\n",
    "        if not lapReqs['MRData']['RaceTable']['Races']:\n",
    "            dictF1[seasonKey]['LAPS'][raceNum-1] = dict()\n",
    "            continue\n",
    "        \n",
    "        dictLaps = dict()\n",
    "        for lapsContent in lapReqs['MRData']['RaceTable']['Races'][0]['Laps']:\n",
    "            dictLaps[lapsContent['number']] = dict()\n",
    "            for driverContent in lapsContent['Timings']:\n",
    "                dictLaps[lapsContent['number']][driverContent['driverId']] = dict()\n",
    "                dictLaps[lapsContent['number']][driverContent['driverId']] = updateDictionnary(driverContent, dictLaps[lapsContent['number']][driverContent['driverId']], ['position', 'time'], ['POSITION', 'TIME'])\n",
    "        dictF1[seasonKey]['LAPS'][raceNum] = dictLaps\n",
    "displayDictSample(dictF1[random.choice(list(dictF1.keys()))]['LAPS'], 5)"
   ]
  },
  {
   "cell_type": "code",
   "execution_count": 40,
   "metadata": {},
   "outputs": [],
   "source": [
    "# 3° - Export the data in a JSON file\n",
    "pathFile = os.path.join('data', 'formula1-data.json')\n",
    "exportJSON(dictF1, pathFile)"
   ]
  }
 ],
 "metadata": {
  "kernelspec": {
   "display_name": "env",
   "language": "python",
   "name": "python3"
  },
  "language_info": {
   "codemirror_mode": {
    "name": "ipython",
    "version": 3
   },
   "file_extension": ".py",
   "mimetype": "text/x-python",
   "name": "python",
   "nbconvert_exporter": "python",
   "pygments_lexer": "ipython3",
   "version": "3.8.16"
  },
  "orig_nbformat": 4
 },
 "nbformat": 4,
 "nbformat_minor": 2
}
